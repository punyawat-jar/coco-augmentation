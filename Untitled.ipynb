{
 "cells": [
  {
   "cell_type": "code",
   "execution_count": 36,
   "metadata": {},
   "outputs": [
    {
     "name": "stdout",
     "output_type": "stream",
     "text": [
      "All cpu process is 12\n",
      "Using cpu : 6\n",
      "Processing Augmentation image sets: 100%|██████| 4/4 [00:00<00:00, 44384.17it/s]loading annotations into memory...\n",
      "loading annotations into memory...\n",
      "loading annotations into memory...\n",
      "loading annotations into memory...\n",
      "Done (t=0.01s)\n",
      "creating index...\n",
      "Done (t=0.01s)\n",
      "creating index...\n",
      "index created!\n",
      "Done (t=0.01s)\n",
      "creating index...\n",
      "Done (t=0.01s)\n",
      "creating index...\n",
      "index created!\n",
      "index created!\n",
      "index created!\n",
      "\u001b[32m2024-04-24 14:23:59.236\u001b[0m | \u001b[1mINFO    \u001b[0m | \u001b[36mpyodi.apps.coco.coco_merge\u001b[0m:\u001b[36mcoco_merge\u001b[0m:\u001b[36m51\u001b[0m - \u001b[1mInput 1: 900 images, 2626 annotations\u001b[0m\n",
      "\u001b[32m2024-04-24 14:23:59.238\u001b[0m | \u001b[1mINFO    \u001b[0m | \u001b[36mpyodi.apps.coco.coco_merge\u001b[0m:\u001b[36mcoco_merge\u001b[0m:\u001b[36m51\u001b[0m - \u001b[1mInput 2: 900 images, 4500 annotations\u001b[0m\n",
      "\u001b[32m2024-04-24 14:23:59.240\u001b[0m | \u001b[1mINFO    \u001b[0m | \u001b[36mpyodi.apps.coco.coco_merge\u001b[0m:\u001b[36mcoco_merge\u001b[0m:\u001b[36m89\u001b[0m - \u001b[1mResult: 1800 images, 7126 annotations\u001b[0m\n",
      "\u001b[32m2024-04-24 14:23:59.833\u001b[0m | \u001b[1mINFO    \u001b[0m | \u001b[36mpyodi.apps.coco.coco_merge\u001b[0m:\u001b[36mcoco_merge\u001b[0m:\u001b[36m51\u001b[0m - \u001b[1mInput 1: 1800 images, 7126 annotations\u001b[0m\n",
      "\u001b[32m2024-04-24 14:23:59.836\u001b[0m | \u001b[1mINFO    \u001b[0m | \u001b[36mpyodi.apps.coco.coco_merge\u001b[0m:\u001b[36mcoco_merge\u001b[0m:\u001b[36m51\u001b[0m - \u001b[1mInput 2: 900 images, 4500 annotations\u001b[0m\n",
      "\u001b[32m2024-04-24 14:23:59.837\u001b[0m | \u001b[1mINFO    \u001b[0m | \u001b[36mpyodi.apps.coco.coco_merge\u001b[0m:\u001b[36mcoco_merge\u001b[0m:\u001b[36m89\u001b[0m - \u001b[1mResult: 2700 images, 11626 annotations\u001b[0m\n",
      "\u001b[32m2024-04-24 14:24:00.994\u001b[0m | \u001b[1mINFO    \u001b[0m | \u001b[36mpyodi.apps.coco.coco_merge\u001b[0m:\u001b[36mcoco_merge\u001b[0m:\u001b[36m51\u001b[0m - \u001b[1mInput 1: 2700 images, 11626 annotations\u001b[0m\n",
      "\u001b[32m2024-04-24 14:24:01.000\u001b[0m | \u001b[1mINFO    \u001b[0m | \u001b[36mpyodi.apps.coco.coco_merge\u001b[0m:\u001b[36mcoco_merge\u001b[0m:\u001b[36m51\u001b[0m - \u001b[1mInput 2: 900 images, 4500 annotations\u001b[0m\n",
      "\u001b[32m2024-04-24 14:24:01.001\u001b[0m | \u001b[1mINFO    \u001b[0m | \u001b[36mpyodi.apps.coco.coco_merge\u001b[0m:\u001b[36mcoco_merge\u001b[0m:\u001b[36m89\u001b[0m - \u001b[1mResult: 3600 images, 16126 annotations\u001b[0m\n",
      "Deleted file: ./augmentation/AP/data1.json\n",
      "Deleted file: ./augmentation/AP/data2.json\n",
      "Deleted file: ./augmentation/AP/data3.json\n",
      "Processing Augmentation image sets: 100%|████████| 4/4 [15:16<00:00, 229.15s/it]\n"
     ]
    }
   ],
   "source": [
    "! python create_augmentation.py"
   ]
  },
  {
   "cell_type": "code",
   "execution_count": null,
   "id": "bfb40a71",
   "metadata": {},
   "outputs": [],
   "source": []
  }
 ],
 "metadata": {
  "kernelspec": {
   "display_name": "Python 3 (ipykernel)",
   "language": "python",
   "name": "python3"
  }
 },
 "nbformat": 4,
 "nbformat_minor": 5
}
